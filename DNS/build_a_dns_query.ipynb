{
 "cells": [
  {
   "cell_type": "code",
   "execution_count": 1,
   "metadata": {},
   "outputs": [],
   "source": [
    "import socket\n",
    "import binascii\n",
    "import time\n",
    "import struct"
   ]
  },
  {
   "cell_type": "markdown",
   "metadata": {},
   "source": [
    "## Step 1: Build a DNS Query"
   ]
  },
  {
   "cell_type": "code",
   "execution_count": 9,
   "metadata": {},
   "outputs": [],
   "source": [
    "# DNS Header\n",
    "\n",
    "# Only working on ID, QR, Opcode, TC, RD, and QDCount (all other fields get value of 0)\n",
    "\n",
    "# ID = 1010101000000000 -> 16 bit identifier assigned by the program that generates any query. Used by the requester to match up replies\n",
    "\n",
    "# QR = 0 -> One bit field that specifies whether this message is a query (0), or a response (1)\n",
    "\n",
    "# Opcode = 0000 -> Four bit field that specifies kind of query, this one is a standard query\n",
    "\n",
    "# TC = 0 -> Specifies that this message was truncated due to length greater than that permitted on the transmission channel\n",
    "\n",
    "# RD = 1 -> Recurion Desired - It directs the name server to pursue the query recursively.\n",
    "\n",
    "# QDCount = 0000000000000001 -> an unsigned 16 bit integer specifying the number of entries in the question section.\n",
    "\n",
    "dnsHeader = \"AA0001000001000000000000\""
   ]
  },
  {
   "cell_type": "code",
   "execution_count": 10,
   "metadata": {},
   "outputs": [],
   "source": [
    "def input_padding(s):\n",
    "    return '0x' + s[2:].zfill(2)\n"
   ]
  },
  {
   "cell_type": "code",
   "execution_count": 11,
   "metadata": {},
   "outputs": [],
   "source": [
    "def dnsURLParser(user_input):\n",
    "    host = \"\"\n",
    "    tld = \"\"\n",
    "    index_start = 0\n",
    "\n",
    "    # Parse out hostname\n",
    "    for element in range(0, len(user_input)):\n",
    "        if user_input[element] == \".\":\n",
    "            index_start = element\n",
    "            break\n",
    "        else:\n",
    "            host = host + user_input[element]\n",
    "\n",
    "    # Parse out TLD\n",
    "    for element in range(index_start+1, len(user_input)):\n",
    "        tld = tld + user_input[element]\n",
    "\n",
    "\n",
    "    hex_host = binascii.hexlify(host.encode(\"utf-8\"))\n",
    "    hex_tld = binascii.hexlify(tld.encode(\"utf-8\"))\n",
    "\n",
    "    len_host = input_padding(str(hex(len(host))))\n",
    "    len_tld = input_padding(str(hex(len(tld))))\n",
    "\n",
    "    query = len_host[2:] + hex_host.decode(\"utf-8\") + len_tld[2:] + hex_tld.decode(\"utf-8\")\n",
    "    query = query.upper()\n",
    "    print(query)\n",
    "\n",
    "    return query"
   ]
  },
  {
   "cell_type": "code",
   "execution_count": 12,
   "metadata": {},
   "outputs": [
    {
     "name": "stdout",
     "output_type": "stream",
     "text": [
      "07796F757475626503636F6D\n",
      "0866616365626F6F6B03636F6D\n",
      "03746D7A03636F6D\n",
      "076E7974696D657303636F6D\n",
      "03636E6E03636F6D\n"
     ]
    }
   ],
   "source": [
    "queryYT = dnsURLParser(\"youtube.com\")\n",
    "queryFB = dnsURLParser(\"facebook.com\")\n",
    "queryTMZ = dnsURLParser(\"tmz.com\")\n",
    "queryNYT = dnsURLParser(\"nytimes.com\")\n",
    "queryCNN = dnsURLParser(\"cnn.com\")"
   ]
  },
  {
   "cell_type": "code",
   "execution_count": 13,
   "metadata": {},
   "outputs": [],
   "source": [
    "# DNS Question\n",
    "dnsQuestionYT = queryYT + \"000001\" + \"0001\"\n",
    "yt_offset = len(dnsQuestionYT)\n",
    "dnsQuestionFB = queryFB + \"000001\" + \"0001\"\n",
    "fb_offset = len(dnsQuestionFB)\n",
    "dnsQuestionTMZ = queryTMZ + \"000001\" + \"0001\"\n",
    "tmz_offset = len(dnsQuestionTMZ)\n",
    "dnsQuestionNYT = queryNYT + \"000001\" + \"0001\"\n",
    "nyt_offset = len(dnsQuestionNYT)\n",
    "dnsQuestionCNN = queryCNN + \"000001\" + \"0001\"\n",
    "cnn_offset = len(dnsQuestionCNN)\n",
    "\n",
    "\n"
   ]
  },
  {
   "cell_type": "code",
   "execution_count": 14,
   "metadata": {},
   "outputs": [
    {
     "name": "stdout",
     "output_type": "stream",
     "text": [
      "AA000100000100000000000007796F757475626503636F6D0000010001\n"
     ]
    }
   ],
   "source": [
    "# Create DNS Query\n",
    "dnsQueryYT = dnsHeader + dnsQuestionYT\n",
    "print(dnsQueryYT)\n",
    "dnsQueryFB = dnsHeader + dnsQuestionFB\n",
    "dnsQueryTMZ = dnsHeader + dnsQuestionTMZ\n",
    "dnsQueryNYT = dnsHeader + dnsQuestionNYT\n",
    "dnsQueryCNN = dnsHeader + dnsQuestionCNN"
   ]
  }
 ],
 "metadata": {
  "kernelspec": {
   "display_name": "Python 3.9.12 ('base')",
   "language": "python",
   "name": "python3"
  },
  "language_info": {
   "codemirror_mode": {
    "name": "ipython",
    "version": 3
   },
   "file_extension": ".py",
   "mimetype": "text/x-python",
   "name": "python",
   "nbconvert_exporter": "python",
   "pygments_lexer": "ipython3",
   "version": "3.10.12"
  },
  "orig_nbformat": 4,
  "vscode": {
   "interpreter": {
    "hash": "49f6107ad89c9c7fd79771d3dfcfde8fadaa90041805bc57f3ce6040a6e5d26c"
   }
  }
 },
 "nbformat": 4,
 "nbformat_minor": 2
}
