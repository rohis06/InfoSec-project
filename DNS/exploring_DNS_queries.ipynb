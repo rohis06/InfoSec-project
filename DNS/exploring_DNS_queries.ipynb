{
 "cells": [
  {
   "cell_type": "code",
   "execution_count": 126,
   "metadata": {},
   "outputs": [],
   "source": [
    "import socket\n",
    "import binascii\n",
    "import time\n",
    "import struct"
   ]
  },
  {
   "cell_type": "markdown",
   "metadata": {},
   "source": [
    "## Step 1: Build a DNS Query"
   ]
  },
  {
   "cell_type": "code",
   "execution_count": 127,
   "metadata": {},
   "outputs": [],
   "source": [
    "# DNS Header\n",
    "\n",
    "# Only working on ID, QR, Opcode, TC, RD, and QDCount (all other fields get value of 0)\n",
    "# ID = 1010101000000000\n",
    "# QR = 0\n",
    "# Opcode = 0000\n",
    "# TC = 0\n",
    "# RD = 1\n",
    "# QDCount = 0000000000000001\n",
    "\n",
    "dnsHeader = \"AA0001000001000000000000\""
   ]
  },
  {
   "cell_type": "code",
   "execution_count": 128,
   "metadata": {},
   "outputs": [],
   "source": [
    "def input_padding(s):\n",
    "    return '0x' + s[2:].zfill(2)\n"
   ]
  },
  {
   "cell_type": "code",
   "execution_count": 129,
   "metadata": {},
   "outputs": [],
   "source": [
    "def dnsURLParser(user_input):\n",
    "    host = \"\"\n",
    "    tld = \"\"\n",
    "    index_start = 0\n",
    "\n",
    "    # Parse out hostname\n",
    "    for element in range(0, len(user_input)):\n",
    "        if user_input[element] == \".\":\n",
    "            index_start = element\n",
    "            break\n",
    "        else:\n",
    "            host = host + user_input[element]\n",
    "\n",
    "    # Parse out TLD\n",
    "    for element in range(index_start+1, len(user_input)):\n",
    "        tld = tld + user_input[element]\n",
    "\n",
    "\n",
    "    hex_host = binascii.hexlify(host.encode(\"utf-8\"))\n",
    "    hex_tld = binascii.hexlify(tld.encode(\"utf-8\"))\n",
    "\n",
    "    len_host = input_padding(str(hex(len(host))))\n",
    "    len_tld = input_padding(str(hex(len(tld))))\n",
    "\n",
    "    query = len_host[2:] + hex_host.decode(\"utf-8\") + len_tld[2:] + hex_tld.decode(\"utf-8\")\n",
    "    query = query.upper()\n",
    "    print(query)\n",
    "\n",
    "    return query"
   ]
  },
  {
   "cell_type": "code",
   "execution_count": 130,
   "metadata": {},
   "outputs": [
    {
     "name": "stdout",
     "output_type": "stream",
     "text": [
      "0866616365626F6F6B03636F6D\n"
     ]
    }
   ],
   "source": [
    "query = dnsURLParser(\"facebook.com\")"
   ]
  },
  {
   "cell_type": "code",
   "execution_count": 131,
   "metadata": {},
   "outputs": [],
   "source": [
    "# DNS Question\n",
    " \n",
    "# QNAME = 03 74 6D 7A 03 63 6F 6D\n",
    "# QTYPE (want A record) = 0000000000000001\n",
    "# QCLASS = 0000000000000001\n",
    "\n",
    "# to_hex(tmz) = 03 74 6D 7A 03 63 6F 6D\n",
    "\n",
    "dnsQuestionBeta = query + \"000001\" + \"0001\"\n",
    "jeff = len(dnsQuestionBeta)\n",
    "#dnsQuestion = \"03746D7A03636F6D0000010001\""
   ]
  },
  {
   "cell_type": "code",
   "execution_count": 132,
   "metadata": {},
   "outputs": [],
   "source": [
    "dnsQuery = dnsHeader + dnsQuestionBeta\n",
    "#print(dnsQuery)\n"
   ]
  },
  {
   "cell_type": "markdown",
   "metadata": {},
   "source": [
    "## Step 2: UDP Socket Calls"
   ]
  },
  {
   "cell_type": "code",
   "execution_count": 133,
   "metadata": {},
   "outputs": [
    {
     "ename": "KeyboardInterrupt",
     "evalue": "",
     "output_type": "error",
     "traceback": [
      "\u001b[0;31m---------------------------------------------------------------------------\u001b[0m",
      "\u001b[0;31mKeyboardInterrupt\u001b[0m                         Traceback (most recent call last)",
      "\u001b[1;32m/home/null/Documents/ECS152/Project2/PartA_ArnibQuazi_917717635.ipynb Cell 10\u001b[0m in \u001b[0;36m<cell line: 12>\u001b[0;34m()\u001b[0m\n\u001b[1;32m     <a href='vscode-notebook-cell:/home/null/Documents/ECS152/Project2/PartA_ArnibQuazi_917717635.ipynb#X12sZmlsZQ%3D%3D?line=9'>10</a>\u001b[0m start_time \u001b[39m=\u001b[39m time\u001b[39m.\u001b[39mtime()\n\u001b[1;32m     <a href='vscode-notebook-cell:/home/null/Documents/ECS152/Project2/PartA_ArnibQuazi_917717635.ipynb#X12sZmlsZQ%3D%3D?line=10'>11</a>\u001b[0m client_socket\u001b[39m.\u001b[39msendto(binascii\u001b[39m.\u001b[39munhexlify(dnsQuery), server_addr)\n\u001b[0;32m---> <a href='vscode-notebook-cell:/home/null/Documents/ECS152/Project2/PartA_ArnibQuazi_917717635.ipynb#X12sZmlsZQ%3D%3D?line=11'>12</a>\u001b[0m iranian_requested_data, _ \u001b[39m=\u001b[39m client_socket\u001b[39m.\u001b[39;49mrecvfrom(\u001b[39m4096\u001b[39;49m)\n\u001b[1;32m     <a href='vscode-notebook-cell:/home/null/Documents/ECS152/Project2/PartA_ArnibQuazi_917717635.ipynb#X12sZmlsZQ%3D%3D?line=13'>14</a>\u001b[0m \u001b[39m#print(\"Iranian DNS RTT: \" + str(time.time() - start_time))\u001b[39;00m\n\u001b[1;32m     <a href='vscode-notebook-cell:/home/null/Documents/ECS152/Project2/PartA_ArnibQuazi_917717635.ipynb#X12sZmlsZQ%3D%3D?line=14'>15</a>\u001b[0m decoded_iranian_data \u001b[39m=\u001b[39m binascii\u001b[39m.\u001b[39mhexlify(iranian_requested_data)\u001b[39m.\u001b[39mdecode(\u001b[39m\"\u001b[39m\u001b[39mutf-8\u001b[39m\u001b[39m\"\u001b[39m)\n",
      "\u001b[0;31mKeyboardInterrupt\u001b[0m: "
     ]
    }
   ],
   "source": [
    "# Iranian DNS: 91.245.229.1\n",
    "\n",
    "# Create client-side socket\n",
    "client_socket = socket.socket(socket.AF_INET, socket.SOCK_DGRAM)\n",
    "\n",
    "# List out server details\n",
    "server_addr = (\"91.245.229.1\", 53)\n",
    "\n",
    "# Begin DNS Query and measure RTT\n",
    "start_time = time.time()\n",
    "client_socket.sendto(binascii.unhexlify(dnsQuery), server_addr)\n",
    "iranian_requested_data, _ = client_socket.recvfrom(4096)\n",
    "\n",
    "#print(\"Iranian DNS RTT: \" + str(time.time() - start_time))\n",
    "decoded_iranian_data = binascii.hexlify(iranian_requested_data).decode(\"utf-8\")"
   ]
  },
  {
   "cell_type": "code",
   "execution_count": 134,
   "metadata": {},
   "outputs": [],
   "source": [
    "# American DNS: 169.237.229.88\n",
    "\n",
    "# Create client-side socket\n",
    "client_socket = socket.socket(socket.AF_INET, socket.SOCK_DGRAM)\n",
    "\n",
    "# List out server details\n",
    "server_addr = (\"169.237.229.88\", 53)\n",
    "\n",
    "# Begin DNS Query and measure RTT\n",
    "start_time = time.time()\n",
    "client_socket.sendto(binascii.unhexlify(dnsQuery), server_addr)\n",
    "american_requested_data, _ = client_socket.recvfrom(4096)\n",
    "\n",
    "#print(\"American DNS RTT: \" + str(time.time() - start_time))\n",
    "decoded_american_data = binascii.hexlify(american_requested_data).decode(\"utf-8\")\n",
    "\n"
   ]
  },
  {
   "cell_type": "code",
   "execution_count": null,
   "metadata": {},
   "outputs": [],
   "source": [
    "# Canadian DNS: 136.159.85.15\n",
    "\n",
    "# Create client-side socket\n",
    "client_socket = socket.socket(socket.AF_INET, socket.SOCK_DGRAM)\n",
    "\n",
    "# List out server details\n",
    "server_addr = (\"136.159.85.15\", 53)\n",
    "\n",
    "# Begin DNS Query and measure RTT\n",
    "start_time = time.time()\n",
    "client_socket.sendto(binascii.unhexlify(dnsQuery), server_addr)\n",
    "canadian_requested_data, _ = client_socket.recvfrom(4096)\n",
    "\n",
    "#print(\"Canadian DNS RTT: \" + str(time.time() - start_time))\n",
    "decoded_canadian_data = binascii.hexlify(canadian_requested_data).decode(\"utf-8\")"
   ]
  },
  {
   "cell_type": "markdown",
   "metadata": {},
   "source": [
    "## Step 3: Unpacking Header"
   ]
  },
  {
   "cell_type": "code",
   "execution_count": 135,
   "metadata": {},
   "outputs": [],
   "source": [
    "def parse_header(decoded_data):\n",
    "    id = \"\"\n",
    "    flags = \"\"\n",
    "    questions = \"\"\n",
    "    answer_rr = \"\"\n",
    "    authority_rr = \"\"\n",
    "    additional_rr = \"\"\n",
    "\n",
    "\n",
    "    for elementID in range(0, 4):\n",
    "        id = id + decoded_data[elementID]\n",
    "    \n",
    "    for elementFlags in range(4, 8):\n",
    "        flags = flags + decoded_data[elementFlags]\n",
    "\n",
    "    for elementQuestions in range(8, 12):\n",
    "        questions = questions + decoded_data[elementQuestions]\n",
    "    \n",
    "    for elementAnswerRR in range(12, 16):\n",
    "        answer_rr = answer_rr + decoded_data[elementAnswerRR]\n",
    "    \n",
    "    for elementAuthorityRR in range(16, 20):\n",
    "        authority_rr = authority_rr + decoded_data[elementAuthorityRR]\n",
    "    \n",
    "    for elementAdditionalRR in range(20, 24):\n",
    "        additional_rr = additional_rr + decoded_data[elementAdditionalRR]\n",
    "    \n",
    "    flags_breakdown = bin(int(flags, 16))[2:].zfill(8)\n",
    "\n",
    "    qr = \"\"\n",
    "    opcode = \"\"\n",
    "    aa = \"\"\n",
    "    tc = \"\"\n",
    "    rd = \"\"\n",
    "    ra = \"\"\n",
    "    z = \"\"\n",
    "    rcode = \"\"\n",
    "\n",
    "    for elementQR in range(0, 1):\n",
    "        qr = qr + flags_breakdown[elementQR]\n",
    "    #print(\"QR: \", qr)\n",
    "    \n",
    "    for elementOPCODE in range(1, 5):\n",
    "        opcode = opcode + flags_breakdown[elementOPCODE]\n",
    "    #print(\"Opcode: \", opcode)\n",
    "\n",
    "    for elementAA in range(5, 6):\n",
    "        aa = aa + flags_breakdown[elementAA]\n",
    "    #print(\"AA: \", aa)\n",
    "\n",
    "    for elementTC in range(6, 7):\n",
    "        tc = tc + flags_breakdown[elementTC]\n",
    "    #print(\"TC: \", tc)\n",
    "\n",
    "    for elementRD in range(7, 8):\n",
    "        rd = rd + flags_breakdown[elementRD]\n",
    "    #print(\"RD: \", rd)\n",
    "\n",
    "    for elementRA in range(8, 9):\n",
    "        ra = ra + flags_breakdown[elementRA]\n",
    "    #print(\"RA: \", ra)\n",
    "    \n",
    "    for elementZ in range(9, 12):\n",
    "        z = z + flags_breakdown[elementZ]\n",
    "    #print(\"Z: \", z)\n",
    "    \n",
    "    for elementRCODE in range(12, 16):\n",
    "        rcode = rcode + flags_breakdown[elementRCODE]\n",
    "    #print(\"Rcode: \", rcode)\n",
    "    \n",
    "\n",
    "\n",
    "    \n",
    "    print(\"ID: \", bin(int(id, 16))[2:].zfill(16))\n",
    "    print(\"Flags: \", bin(int(flags, 16))[2:].zfill(16))\n",
    "    print(\"Flags Breakdown: \")\n",
    "    print(\"\\tQR: \", qr)\n",
    "    print(\"\\tOpcode: \", opcode)\n",
    "    print(\"\\tAA: \", aa)\n",
    "    print(\"\\tTC: \", tc)\n",
    "    print(\"\\tRD: \", rd)\n",
    "    print(\"\\tRA: \", ra)\n",
    "    print(\"\\tZ (Reserved): \", z)\n",
    "    print(\"\\tRcode: \", rcode)\n",
    "    print(\"Number of entries in question section: \", int(questions, 16))\n",
    "    print(\"Number of resource records in the answer section: \", int(answer_rr, 16))\n",
    "    print(\"Number of name server resource records in the authority records section: \", int(authority_rr, 16))\n",
    "    print(\"Number of resource records in the additional records section: \", int(additional_rr, 16))\n",
    "\n",
    "    return int(answer_rr, 16)"
   ]
  },
  {
   "cell_type": "code",
   "execution_count": null,
   "metadata": {},
   "outputs": [
    {
     "name": "stdout",
     "output_type": "stream",
     "text": [
      "ID:  1010101000000000\n",
      "Flags:  1000000110000000\n",
      "Flags Breakdown: \n",
      "\tQR:  1\n",
      "\tOpcode:  0000\n",
      "\tAA:  0\n",
      "\tTC:  0\n",
      "\tRD:  1\n",
      "\tRA:  1\n",
      "\tZ (Reserved):  000\n",
      "\tRcode:  0000\n",
      "Number of entries in question section:  1\n",
      "Number of resource records in the answer section:  1\n",
      "Number of name server resource records in the authority records section:  0\n",
      "Number of resource records in the additional records section:  0\n"
     ]
    }
   ],
   "source": [
    "iranian_answer_RR = parse_header(decoded_iranian_data)"
   ]
  },
  {
   "cell_type": "code",
   "execution_count": 136,
   "metadata": {},
   "outputs": [
    {
     "name": "stdout",
     "output_type": "stream",
     "text": [
      "ID:  1010101000000000\n",
      "Flags:  1000000110000000\n",
      "Flags Breakdown: \n",
      "\tQR:  1\n",
      "\tOpcode:  0000\n",
      "\tAA:  0\n",
      "\tTC:  0\n",
      "\tRD:  1\n",
      "\tRA:  1\n",
      "\tZ (Reserved):  000\n",
      "\tRcode:  0000\n",
      "Number of entries in question section:  1\n",
      "Number of resource records in the answer section:  1\n",
      "Number of name server resource records in the authority records section:  0\n",
      "Number of resource records in the additional records section:  0\n"
     ]
    }
   ],
   "source": [
    "american_answer_RR = parse_header(decoded_american_data)"
   ]
  },
  {
   "cell_type": "code",
   "execution_count": null,
   "metadata": {},
   "outputs": [
    {
     "name": "stdout",
     "output_type": "stream",
     "text": [
      "ID:  1010101000000000\n",
      "Flags:  1000000110000000\n",
      "Flags Breakdown: \n",
      "\tQR:  1\n",
      "\tOpcode:  0000\n",
      "\tAA:  0\n",
      "\tTC:  0\n",
      "\tRD:  1\n",
      "\tRA:  1\n",
      "\tZ (Reserved):  000\n",
      "\tRcode:  0000\n",
      "Number of entries in question section:  1\n",
      "Number of resource records in the answer section:  4\n",
      "Number of name server resource records in the authority records section:  0\n",
      "Number of resource records in the additional records section:  0\n"
     ]
    }
   ],
   "source": [
    "canadian_answer_RR = parse_header(decoded_canadian_data)"
   ]
  },
  {
   "cell_type": "markdown",
   "metadata": {},
   "source": [
    "## Step 4: Parse Response Message"
   ]
  },
  {
   "cell_type": "code",
   "execution_count": 137,
   "metadata": {},
   "outputs": [],
   "source": [
    "def parse_answer(decoded_data):\n",
    "    query = \"\"\n",
    "    name = \"\"\n",
    "    rr_type = \"\"\n",
    "    class_rr_data = \"\"\n",
    "    ttl = \"\"\n",
    "    rdlength = \"\"\n",
    "    rdata = \"\"\n",
    "    start_index = 24 + jeff\n",
    "    # Retrieve raw data\n",
    "    for elementNAME in range(start_index, start_index+4):\n",
    "        name = name + decoded_data[elementNAME]\n",
    "    \n",
    "    for elementRR_TYPE in range(start_index+4, start_index+8):\n",
    "        rr_type = rr_type + decoded_data[elementRR_TYPE]\n",
    "    \n",
    "    for elementCLASS_RR_DATA in range(start_index+8, start_index+12):\n",
    "        class_rr_data = class_rr_data + decoded_data[elementCLASS_RR_DATA]\n",
    "    \n",
    "    for elementTTL in range(start_index+12, start_index+20):\n",
    "        ttl = ttl + decoded_data[elementTTL]\n",
    "    \n",
    "    for elementRDLENGTH in range(start_index+20, start_index+24):\n",
    "        rdlength = rdlength + decoded_data[elementRDLENGTH]\n",
    "    \n",
    "    for elementRDATA in range(start_index+24, start_index+32):\n",
    "        rdata = rdata + decoded_data[elementRDATA]\n",
    "    \n",
    "    # Begin post-processing\n",
    "    address = int(rdata, 16)\n",
    "    \n",
    "    # Resource record class\n",
    "    if class_rr_data == \"0001\":\n",
    "        class_rr_data = \"IN\"\n",
    "    \n",
    "    # Resource record type\n",
    "    if rr_type == \"0001\":\n",
    "        rr_type = \"A\"\n",
    "    elif rr_type == \"0002\":\n",
    "        rr_type = \"NS\"\n",
    "\n",
    "    # Offset for domain\n",
    "    offset_val_raw = name[2:]\n",
    "    offset_val = int(offset_val_raw, 16)\n",
    "    offset_index = offset_val * 2\n",
    "    #print(\"offset index: \", offset_index)\n",
    "    \n",
    "    # Get length of domain\n",
    "    lengthOfDomain = \"\"\n",
    "    for elementDomain in range(offset_index, offset_index+2):\n",
    "        lengthOfDomain = lengthOfDomain + decoded_data[elementDomain]\n",
    "    \n",
    "    lengthOfDomain = int(lengthOfDomain)\n",
    "\n",
    "    # Get hostname with length of domain\n",
    "    hostname = \"\"\n",
    "    for elementHOST in range(offset_index+2, offset_index+2+(lengthOfDomain*2)):\n",
    "        hostname = hostname + decoded_data[elementHOST]\n",
    "    \n",
    "    # Get length of TLD\n",
    "    tldStart = offset_index+2+(lengthOfDomain*2)\n",
    "    lengthofTLD = \"\"\n",
    "    for elementLENTLD in range(tldStart, tldStart+2):\n",
    "        lengthofTLD = lengthofTLD + decoded_data[elementLENTLD]\n",
    "    \n",
    "    lengthofTLD = int(lengthofTLD)\n",
    "\n",
    "    # Get TLD with length of TLD\n",
    "    tld = \"\"\n",
    "    for elementTLD in range(tldStart+2, tldStart+2+(lengthofTLD*2)):\n",
    "        tld = tld + decoded_data[elementTLD]\n",
    "\n",
    "\n",
    "    temp_host_name_object = bytes.fromhex(hostname)\n",
    "    temp_tld_object = bytes.fromhex(tld)\n",
    "\n",
    "    true_host_name = temp_host_name_object.decode(\"ASCII\")\n",
    "    true_tld = temp_tld_object.decode(\"ASCII\")\n",
    "\n",
    "    domain_name = true_host_name + \".\" + true_tld\n",
    "\n",
    "    ip_address = socket.inet_ntoa(struct.pack(\">L\", address))\n",
    "\n",
    "    print(\"Domain: \", domain_name)\n",
    "    #print(\"DNS Record Type: \", rr_type)\n",
    "    #print(\"Class: \", class_rr_data)\n",
    "    #print(\"TTL: \", int(ttl, 16), \"seconds\")\n",
    "    #print(\"RDLength: \", int(rdlength, 16))\n",
    "    print(\"HTTP Server IP address: \", ip_address)\n",
    "\n",
    "    return ip_address"
   ]
  },
  {
   "cell_type": "code",
   "execution_count": null,
   "metadata": {},
   "outputs": [
    {
     "name": "stdout",
     "output_type": "stream",
     "text": [
      "Domain:  tmz.com\n",
      "HTTP Server IP address:  10.10.34.35\n"
     ]
    }
   ],
   "source": [
    "iranian_ip = parse_answer(decoded_iranian_data)"
   ]
  },
  {
   "cell_type": "code",
   "execution_count": 138,
   "metadata": {},
   "outputs": [
    {
     "name": "stdout",
     "output_type": "stream",
     "text": [
      "Domain:  facebook.com\n",
      "HTTP Server IP address:  157.240.22.35\n"
     ]
    }
   ],
   "source": [
    "american_ip = parse_answer(decoded_american_data)"
   ]
  },
  {
   "cell_type": "code",
   "execution_count": null,
   "metadata": {},
   "outputs": [
    {
     "name": "stdout",
     "output_type": "stream",
     "text": [
      "Domain:  tmz.com\n",
      "HTTP Server IP address:  18.65.229.44\n"
     ]
    }
   ],
   "source": [
    "canadian_ip = parse_answer(decoded_canadian_data)"
   ]
  },
  {
   "cell_type": "markdown",
   "metadata": {},
   "source": [
    "## Step 5: Initiate TCP Connection"
   ]
  },
  {
   "cell_type": "code",
   "execution_count": 37,
   "metadata": {},
   "outputs": [
    {
     "ename": "OSError",
     "evalue": "[Errno 113] No route to host",
     "output_type": "error",
     "traceback": [
      "\u001b[0;31m---------------------------------------------------------------------------\u001b[0m",
      "\u001b[0;31mOSError\u001b[0m                                   Traceback (most recent call last)",
      "\u001b[1;32m/home/null/Documents/ECS152/Project2/PartA_ArnibQuazi_917717635.ipynb Cell 24\u001b[0m in \u001b[0;36m<cell line: 6>\u001b[0;34m()\u001b[0m\n\u001b[1;32m      <a href='vscode-notebook-cell:/home/null/Documents/ECS152/Project2/PartA_ArnibQuazi_917717635.ipynb#X32sZmlsZQ%3D%3D?line=3'>4</a>\u001b[0m client \u001b[39m=\u001b[39m socket\u001b[39m.\u001b[39msocket(socket\u001b[39m.\u001b[39mAF_INET, socket\u001b[39m.\u001b[39mSOCK_STREAM)\n\u001b[1;32m      <a href='vscode-notebook-cell:/home/null/Documents/ECS152/Project2/PartA_ArnibQuazi_917717635.ipynb#X32sZmlsZQ%3D%3D?line=4'>5</a>\u001b[0m start_time \u001b[39m=\u001b[39m time\u001b[39m.\u001b[39mtime()\n\u001b[0;32m----> <a href='vscode-notebook-cell:/home/null/Documents/ECS152/Project2/PartA_ArnibQuazi_917717635.ipynb#X32sZmlsZQ%3D%3D?line=5'>6</a>\u001b[0m client\u001b[39m.\u001b[39;49mconnect((iranian_ip, \u001b[39m80\u001b[39;49m))\n\u001b[1;32m      <a href='vscode-notebook-cell:/home/null/Documents/ECS152/Project2/PartA_ArnibQuazi_917717635.ipynb#X32sZmlsZQ%3D%3D?line=7'>8</a>\u001b[0m request \u001b[39m=\u001b[39m \u001b[39m\"\u001b[39m\u001b[39mGET / HTTP/1.1\u001b[39m\u001b[39m\\r\u001b[39;00m\u001b[39m\\n\u001b[39;00m\u001b[39mHost:tmz.com\u001b[39m\u001b[39m\\r\u001b[39;00m\u001b[39m\\n\u001b[39;00m\u001b[39m\\r\u001b[39;00m\u001b[39m\\n\u001b[39;00m\u001b[39m\"\u001b[39m\n\u001b[1;32m      <a href='vscode-notebook-cell:/home/null/Documents/ECS152/Project2/PartA_ArnibQuazi_917717635.ipynb#X32sZmlsZQ%3D%3D?line=8'>9</a>\u001b[0m client\u001b[39m.\u001b[39msend(request\u001b[39m.\u001b[39mencode())\n",
      "\u001b[0;31mOSError\u001b[0m: [Errno 113] No route to host"
     ]
    }
   ],
   "source": [
    "# Adapted from: https://www.geeks3d.com/hacklab/20190110/python-3-simple-http-request-with-the-socket-module/\n",
    "# Iranian Request\n",
    "\n",
    "client = socket.socket(socket.AF_INET, socket.SOCK_STREAM)\n",
    "start_time = time.time()\n",
    "client.connect((iranian_ip, 80))\n",
    "\n",
    "request = \"GET / HTTP/1.1\\r\\nHost:tmz.com\\r\\n\\r\\n\"\n",
    "client.send(request.encode())\n",
    "\n",
    "response = client.recv(4096)\n",
    "print(\"Iranian HTTP RTT: \" + str(time.time() - start_time))\n",
    "http_response = repr(response)\n",
    "with open(\"iranian_response_partA.html\", \"a\") as f:\n",
    "    f.write(http_response)\n",
    "\n"
   ]
  },
  {
   "cell_type": "code",
   "execution_count": 38,
   "metadata": {},
   "outputs": [],
   "source": [
    "# American Request\n",
    "\n",
    "client = socket.socket(socket.AF_INET, socket.SOCK_STREAM)\n",
    "start_time = time.time()\n",
    "client.connect((american_ip, 80))\n",
    "\n",
    "#request = b\"GET tmz.com HTTP/1.1\\n\\n\"\n",
    "#request = \"GET / HTTP/1.1\\r\\nHost:%s\\r\\n\\r\\n\" % american_ip\n",
    "request = \"GET / HTTP/1.1\\r\\nHost:tmz.com\\r\\n\\r\\n\"\n",
    "client.send(request.encode())\n",
    "\n",
    "response = client.recv(4096)\n",
    "#print(\"American HTTP RTT: \" + str(time.time() - start_time))\n",
    "http_response = repr(response)\n",
    "with open(\"american_response_partA.html\", \"a\") as f:\n",
    "    f.write(http_response)\n",
    "    f.write(\"\\n\")\n"
   ]
  },
  {
   "cell_type": "code",
   "execution_count": 39,
   "metadata": {},
   "outputs": [],
   "source": [
    "# Canadian Request\n",
    "\n",
    "client = socket.socket(socket.AF_INET, socket.SOCK_STREAM)\n",
    "start_time = time.time()\n",
    "client.connect((canadian_ip, 80))\n",
    "\n",
    "#request = \"GET / HTTP/1.1\\r\\nHost:%s\\r\\n\\r\\n\" %canadian_ip\n",
    "client.send(b\"GET / HTTP/1.1\\r\\nHost:tmz.com\\r\\n\\r\\n\")\n",
    "\n",
    "response = client.recv(4096)\n",
    "#print(\"Canadian HTTP RTT: \" + str(time.time() - start_time))\n",
    "http_response = repr(response)\n",
    "with open(\"canadian_response_partA.html\", \"a\") as f:\n",
    "    f.write(http_response)\n",
    "    f.write(\"\\n\")\n"
   ]
  },
  {
   "cell_type": "code",
   "execution_count": null,
   "metadata": {},
   "outputs": [],
   "source": []
  }
 ],
 "metadata": {
  "kernelspec": {
   "display_name": "Python 3.9.12 ('base')",
   "language": "python",
   "name": "python3"
  },
  "language_info": {
   "codemirror_mode": {
    "name": "ipython",
    "version": 3
   },
   "file_extension": ".py",
   "mimetype": "text/x-python",
   "name": "python",
   "nbconvert_exporter": "python",
   "pygments_lexer": "ipython3",
   "version": "3.9.12"
  },
  "orig_nbformat": 4,
  "vscode": {
   "interpreter": {
    "hash": "49f6107ad89c9c7fd79771d3dfcfde8fadaa90041805bc57f3ce6040a6e5d26c"
   }
  }
 },
 "nbformat": 4,
 "nbformat_minor": 2
}
